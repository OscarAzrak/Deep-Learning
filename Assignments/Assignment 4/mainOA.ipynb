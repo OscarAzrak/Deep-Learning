{
 "cells": [
  {
   "cell_type": "code",
   "execution_count": 1,
   "metadata": {},
   "outputs": [
    {
     "name": "stdout",
     "output_type": "stream",
     "text": [
      "[58, 55, 62, 62, 65]\n",
      "['h', 'e', 'l', 'l', 'o']\n"
     ]
    }
   ],
   "source": [
    "# Reading the text file\n",
    "with open('data/goblet_book.txt', 'r') as file:\n",
    "    book_data = file.read()\n",
    "\n",
    "# Getting unique characters\n",
    "book_chars = sorted(set(book_data))\n",
    "K = len(book_chars)  # dimensionality of the output (input) vector of your RNN\n",
    "\n",
    "# Initializing maps\n",
    "\n",
    "char_to_ind = {char: ind for ind, char in enumerate(book_chars)}\n",
    "ind_to_char = {ind: char for ind, char in enumerate(book_chars)}\n",
    "\n",
    "\n",
    "\n",
    "# Now, char_to_ind and ind_to_char can be used for converting between characters and their corresponding indices\n",
    "\n",
    "\n",
    "# test using text \"hello\"\n",
    "hello = 'hello'\n",
    "hello_ind = [char_to_ind[char] for char in hello]\n",
    "print(hello_ind)\n",
    "print([ind_to_char[ind] for ind in hello_ind])\n",
    "\n",
    "\n"
   ]
  },
  {
   "cell_type": "code",
   "execution_count": 2,
   "metadata": {},
   "outputs": [],
   "source": [
    "\n",
    "import numpy as np\n",
    "\n",
    "# Set hyper-parameters\n",
    "m = 100  # dimensionality of the hidden state\n",
    "eta = 0.1  # learning rate\n",
    "seq_length = 25  # length of the input sequences\n",
    "\n",
    "# Initialize the RNN's parameters\n",
    "\n",
    "\n",
    "class RNN:\n",
    "    def __init__(self, input_size, hidden_size, output_size, learning_rate=0.1, seq_length=25, sigma=0.01):\n",
    "        self.input_size = input_size\n",
    "        self.hidden_size = hidden_size\n",
    "        self.output_size = output_size\n",
    "        self.learning_rate = learning_rate\n",
    "        self.seq_length = seq_length\n",
    "        \n",
    "\n",
    "        # Initialize weights and biases\n",
    "        self.W = np.random.randn(hidden_size, hidden_size) / np.sqrt(hidden_size)  # weights for hidden states\n",
    "        self.U = np.random.randn(hidden_size, input_size) / np.sqrt(input_size)  # weights for inputs\n",
    "        self.b = np.zeros((hidden_size, 1))                        # bias for hidden states\n",
    "        self.V = np.random.randn(output_size, hidden_size) / np.sqrt(hidden_size) # weights for output\n",
    "        self.c = np.zeros((output_size, 1))                        # bias for output\n",
    "\n",
    "\n",
    "# Initialize the RNN\n",
    "rnn = RNN(K, m, K, learning_rate=eta, seq_length=seq_length)\n"
   ]
  },
  {
   "cell_type": "code",
   "execution_count": 3,
   "metadata": {},
   "outputs": [],
   "source": [
    "\n",
    "def synthesize(rnn, h0, x0, n):\n",
    "    h = h0\n",
    "    x = x0\n",
    "    Y = np.zeros((rnn.output_size, n))\n",
    "    print(h.shape)\n",
    "\n",
    "    for t in range(n):\n",
    "        # Compute the hidden state\n",
    "        a = np.dot(rnn.W, h.ravel()) + np.dot(rnn.U, x.ravel()) + rnn.b.ravel()\n",
    "        h = np.tanh(a)\n",
    "\n",
    "        # Compute the output\n",
    "        o = np.dot(rnn.V, h) + rnn.c.ravel()\n",
    "        p = np.exp(o) / np.sum(np.exp(o))  # normalize to get probabilities\n",
    "\n",
    "        # Sample a character index from the probability distribution\n",
    "        ix = np.random.choice(range(rnn.output_size), p=p.ravel())\n",
    "\n",
    "        # Update the input for the next time step\n",
    "        x = np.zeros((rnn.input_size, 1))\n",
    "        x[ix] = 1\n",
    "\n",
    "        # Store the one-hot representation of the sampled character\n",
    "        Y[:, t] = x.ravel()\n",
    "\n",
    "\n",
    "    return Y\n",
    "\n",
    "def one_hot_seq_to_char_seq(one_hot_seq, ind_to_char):\n",
    "    N = one_hot_seq.shape[1]\n",
    "    char_seq = ''.join([ind_to_char[np.argmax(one_hot_seq[:, i])] for i in range(N)])\n",
    "    return char_seq"
   ]
  },
  {
   "cell_type": "code",
   "execution_count": 4,
   "metadata": {},
   "outputs": [
    {
     "name": "stdout",
     "output_type": "stream",
     "text": [
      "(100, 1)\n",
      "E•PPROOzwE9R?pitZsxt-mYQEsfVZ(\"ongPD1/!gr 2KKF'\"-}pqFv?/2_ WQK9a7g}D\n",
      "d(cjvf,,lRkZ4gGtF\"QEP,!O.hwa•U1\n"
     ]
    }
   ],
   "source": [
    "\n",
    "h0 = np.zeros((m, 1))\n",
    "x0 = np.zeros((K, 1))\n",
    "n = 100\n",
    "\n",
    "Y = synthesize(rnn, h0, x0, n)\n",
    "#text = ''.join(ind_to_char[np.argmax(Y[:, i])] for i in range(n))\n",
    "text = one_hot_seq_to_char_seq(Y, ind_to_char)\n",
    "print(text)"
   ]
  },
  {
   "cell_type": "code",
   "execution_count": 5,
   "metadata": {},
   "outputs": [],
   "source": [
    "\n",
    "import numpy as np\n",
    "import copy\n",
    "\n",
    "def compute_grad_num(X, Y, f, rnn, h):\n",
    "    n = np.prod(getattr(rnn, f).shape)\n",
    "    grad = np.zeros(getattr(rnn, f).shape)\n",
    "    hprev = np.zeros((rnn.W.shape[0], 1))\n",
    "    for i in range(n):\n",
    "        RNN_try = copy.deepcopy(rnn)\n",
    "        param = getattr(RNN_try, f).flatten()\n",
    "        param[i] -= h\n",
    "        setattr(RNN_try, f, param.reshape(getattr(rnn, f).shape))\n",
    "        l1, _ = forward_backward_pass(RNN_try, X, Y, hprev)\n",
    "        param[i] += 2*h\n",
    "        setattr(RNN_try, f, param.reshape(getattr(rnn, f).shape))\n",
    "        l2,_ = forward_backward_pass(RNN_try, X, Y, hprev)\n",
    "        grad.flat[i] = (l2-l1) / (2*h)\n",
    "    return grad\n",
    "\n",
    "def compute_grads_num(X, Y, rnn, h):\n",
    "    num_grads = {}\n",
    "    for f in ['W', 'U', 'b', 'V', 'c']:\n",
    "        print('Computing numerical gradient for')\n",
    "        print('Field name: ', f)\n",
    "        num_grads[f] = compute_grad_num(X, Y, f, rnn, h)\n",
    "       \n",
    "    return num_grads\n",
    "\n",
    "\n",
    "\n",
    "\n",
    "def forward_backward_pass(rnn, X_chars, Y_chars, h0):\n",
    "\n",
    "    # Initialize the hidden states and outputs\n",
    "    h = np.zeros((rnn.b.shape[0], len(X_chars) + 1))\n",
    "    h[:, 0] = h0.ravel()\n",
    "    o = np.zeros((len(rnn.c), len(X_chars)))\n",
    "    p = np.zeros((len(rnn.c), len(X_chars)))\n",
    "\n",
    "\n",
    "    # Forward pass\n",
    "    for t in range(X_chars.shape[1]):\n",
    "\n",
    "\n",
    "        #a = np.dot(rnn.W, h.ravel()) + np.dot(rnn.U, x.ravel()) + rnn.b.ravel()\n",
    "        #h = np.tanh(a)\n",
    "\n",
    "        a1 = np.dot(rnn.W, h[:, t].ravel())\n",
    "        a2 = np.dot(rnn.U, X_chars[:, t]) \n",
    "        a = a1 + a2 + rnn.b.ravel()\n",
    "        h[:, t + 1] = np.tanh(a).ravel()\n",
    "        o[:, t] = (np.dot(rnn.V, h[:, t + 1]) + rnn.c.ravel())\n",
    "\n",
    "        p[:, t] = np.exp(o[:, t]) / np.sum(np.exp(o[:, t]))  # normalize to get probabilities\n",
    "\n",
    "    loss = -np.sum(Y_chars * np.log(p[:, :Y_chars.shape[1]]))  # cross-entropy loss\n",
    "\n",
    "    # Initialize the gradients\n",
    "    grads = {\n",
    "        'U': np.zeros_like(rnn.U),\n",
    "        'W': np.zeros_like(rnn.W),\n",
    "        'V': np.zeros_like(rnn.V),\n",
    "        'b': np.zeros_like(rnn.b),\n",
    "        'c': np.zeros_like(rnn.c)\n",
    "    }\n",
    "\n",
    "    # Backward pass\n",
    "    dh_next = np.zeros_like(h[:, 0])\n",
    "    for t in reversed(range(Y_chars.shape[1])):\n",
    "        do = p[:, t] - Y_chars[:, t]\n",
    "        grads['V'] += np.outer(do, h[:, t + 1])\n",
    "        grads['c'] += do.reshape(rnn.c.shape)\n",
    "\n",
    "        dh = np.dot(rnn.V.T, do) + dh_next\n",
    "        da = (1 - h[:, t + 1]**2) * dh\n",
    "\n",
    "        grads['U'] += np.outer(da, X_chars[:, t])\n",
    "        grads['W'] += np.outer(da, h[:, t])\n",
    "        grads['b'] += da.reshape(rnn.b.shape)\n",
    "\n",
    "        dh_next = np.dot(rnn.W.T, da)\n",
    "\n",
    "\n",
    "    # Clip the gradients to avoid exploding gradient problem\n",
    "    for grad in grads.values():\n",
    "        np.clip(grad, -5, 5, out=grad)\n",
    "\n",
    "    return loss, grads"
   ]
  },
  {
   "cell_type": "code",
   "execution_count": 6,
   "metadata": {},
   "outputs": [],
   "source": [
    "def relative_error(grad_num, grad_analytic):\n",
    "    rel_errors = np.abs(grad_num - grad_analytic) / np.maximum(1e-6, np.abs(grad_num) + np.abs(grad_analytic))\n",
    "    return np.mean(rel_errors)\n",
    "\n",
    "X_chars = book_data[0:seq_length]\n",
    "Y_chars = book_data[1:seq_length + 1]\n",
    "\n",
    "\n",
    "def one_hot_encode(sequence, vocab_size):\n",
    "    # Create an array of zeros with length of the sequence and vocab size\n",
    "    one_hot = np.zeros((vocab_size, len(sequence)))\n",
    "\n",
    "    # For each character in the sequence, change the corresponding index in the array to 1\n",
    "    for i, char in enumerate(sequence):\n",
    "        one_hot[char_to_ind[char], i] = 1.0  \n",
    "\n",
    "    return one_hot"
   ]
  },
  {
   "cell_type": "code",
   "execution_count": 7,
   "metadata": {},
   "outputs": [
    {
     "name": "stdout",
     "output_type": "stream",
     "text": [
      "Computing numerical gradient for\n",
      "Field name:  W\n",
      "Computing numerical gradient for\n",
      "Field name:  U\n",
      "Computing numerical gradient for\n",
      "Field name:  b\n",
      "Computing numerical gradient for\n",
      "Field name:  V\n",
      "Computing numerical gradient for\n",
      "Field name:  c\n"
     ]
    }
   ],
   "source": [
    "\n",
    "# One-hot encode the input sequences\n",
    "X_chars_encoded = one_hot_encode(X_chars, K)\n",
    "Y_chars_encoded = one_hot_encode(Y_chars, K)\n",
    "\n",
    "#loss, (h, o, p) = forward_pass(rnn, X_chars_encoded, Y_chars_encoded, h0)\n",
    "#grads = backward_pass(rnn, X_chars_encoded, Y_chars_encoded, h, p)\n",
    "\n",
    "\n",
    "h = 1e-5\n",
    "\n",
    "# Compute numerical gradients\n",
    "num_grads = compute_grads_num(X_chars_encoded, Y_chars_encoded, rnn, h)\n",
    "\n",
    "# Compute analytical gradients\n",
    "_, ana_grads = forward_backward_pass(rnn, X_chars_encoded, Y_chars_encoded, h0)\n"
   ]
  },
  {
   "cell_type": "code",
   "execution_count": 8,
   "metadata": {},
   "outputs": [
    {
     "name": "stdout",
     "output_type": "stream",
     "text": [
      "Relative Error for W: 8.138271008732453e-09\n",
      "Relative Error for U: 5.517090040660222e-10\n",
      "Relative Error for b: 1.5156957352092124e-09\n",
      "Relative Error for V: 1.0469489263380888e-07\n",
      "Relative Error for c: 6.507072807927327e-10\n"
     ]
    }
   ],
   "source": [
    "\n",
    "# Compare gradients\n",
    "for param in ['W', 'U', 'b', 'V', 'c']:\n",
    "    rel_error = relative_error(num_grads[param], ana_grads[param])\n",
    "    print(f'Relative Error for {param}: {rel_error}')\n"
   ]
  },
  {
   "cell_type": "code",
   "execution_count": 9,
   "metadata": {},
   "outputs": [
    {
     "name": "stdout",
     "output_type": "stream",
     "text": [
      "110.09567154007051\n"
     ]
    }
   ],
   "source": [
    "\n",
    "loss, grads = forward_backward_pass(rnn, X_chars_encoded, Y_chars_encoded, h0)\n",
    "\n",
    "\n",
    "#loss, grads = forward_backward_pass(rnn, X_chars_encoded, Y_chars_encoded, h0)\n",
    "for param, grad in grads.items():\n",
    "    param_value = getattr(rnn, param)\n",
    "    param_value -= eta * grad\n",
    "    setattr(rnn, param, param_value)\n",
    "\n",
    "print(loss)"
   ]
  },
  {
   "cell_type": "code",
   "execution_count": 10,
   "metadata": {},
   "outputs": [],
   "source": [
    "import matplotlib.pyplot as plt\n",
    "from tqdm import tqdm\n",
    "import copy\n",
    "\n",
    "def train_rnn(rnn, book_data, char_to_ind, ind_to_char, n_epochs):\n",
    "    K = rnn.output_size\n",
    "    seq_length = rnn.seq_length\n",
    "\n",
    "    iter_per_epoch = len(book_data) // seq_length\n",
    "    updates = n_epochs * iter_per_epoch\n",
    "    smooth_loss = -np.log(1.0 / K) * seq_length  # loss at iteration 0\n",
    "    hprev = np.zeros((rnn.hidden_size, 1))\n",
    "    ada_params = {k: np.zeros_like(getattr(rnn, k)) for k in ['U', 'W', 'V', 'b', 'c']}\n",
    "\n",
    "    smooth_loss_list = []\n",
    "    best_loss = np.inf\n",
    "\n",
    "    e= 0\n",
    "    for update in tqdm(range(updates)):\n",
    "        if e == 0 or e + seq_length + 1 > len(book_data):\n",
    "            e = 1\n",
    "            hprev = np.zeros((rnn.hidden_size, 1))  # reset RNN memory\n",
    "\n",
    "        X_chars = book_data[e:e + seq_length]\n",
    "        Y_chars = book_data[e + 1:e + seq_length + 1]\n",
    "\n",
    "        X = one_hot_encode(X_chars, K)\n",
    "        Y = one_hot_encode(Y_chars, K)\n",
    "\n",
    "        loss, grads = forward_backward_pass(rnn, X, Y, hprev)\n",
    "\n",
    "        # Update the parameters using Adagrad\n",
    "        for param, grad in grads.items():\n",
    "            param_value = getattr(rnn, param)\n",
    "            ada_params[param] += grad**2\n",
    "            param_value -= eta * grad / np.sqrt(ada_params[param] + 1e-8)\n",
    "            setattr(rnn, param, param_value)\n",
    "\n",
    "        smooth_loss = smooth_loss * 0.999 + loss * 0.001\n",
    "        smooth_loss_list.append(smooth_loss)\n",
    "\n",
    "        if smooth_loss < best_loss:\n",
    "            rnn_best = copy.deepcopy(rnn)\n",
    "            best_loss = smooth_loss\n",
    "\n",
    "        if update % 10000 == 0:\n",
    "            print(\"Smooth loss at step {}: {}\".format(update, smooth_loss))\n",
    "            Y_synthesized = synthesize(rnn, hprev, X[:, :1], 200)\n",
    "            synthesized_seq = one_hot_seq_to_char_seq(Y_synthesized, ind_to_char)\n",
    "            print(\"Update step {}: Synthesized text:\\n\".format(update), synthesized_seq)\n",
    "\n",
    "        if update % 100000 == 0:\n",
    "            Y_synthesized = synthesize(rnn, hprev, X[:, :1], 200)\n",
    "            synthesized_seq = one_hot_seq_to_char_seq(Y_synthesized, ind_to_char)\n",
    "            print(\"Synthesized text:\\n\", synthesized_seq)\n",
    "\n",
    "    \n",
    "\n",
    "        e += seq_length\n",
    "    print(25*\"_\")\n",
    "\n",
    "    Y_synthesized = synthesize(rnn_best, hprev, X[:, :1], 1000)\n",
    "    synthesized_seq = one_hot_seq_to_char_seq(Y_synthesized, ind_to_char)\n",
    "    print(\"Synthesized text:\\n\", synthesized_seq)\n",
    "    plt.plot(smooth_loss_list)\n",
    "    plt.title(\"Smooth loss over time\")\n",
    "    plt.xlabel(\"Iteration\")\n",
    "    plt.ylabel(\"Smooth loss\")\n",
    "    plt.show()\n",
    "        \n"
   ]
  },
  {
   "cell_type": "code",
   "execution_count": 11,
   "metadata": {},
   "outputs": [
    {
     "name": "stderr",
     "output_type": "stream",
     "text": [
      "  0%|          | 43/310107 [00:00<23:22, 221.10it/s]"
     ]
    },
    {
     "name": "stdout",
     "output_type": "stream",
     "text": [
      "Smooth loss at step 0: 109.54162262283377\n",
      "(100, 1)\n",
      "Update step 0: Synthesized text:\n",
      " DGrGNaNR(INGNDNE 3NyNGNBNINBNDNt7GND ENGHEL'NIHGgRODfGNdNGJ'NnYG DNGOpN0LRNDNAqDLENGL'NG,ENRPDNA BN\n",
      " DNAN'L•HEOSJR RNGNRTANRL\tPDN4NELDNQNG A?G^RNGNENDNGODNG 'NGNGTILDNBWANdNBNB AHoNR-GHZPANBLANBcG GNB\n",
      "(100, 1)\n",
      "Synthesized text:\n",
      " 9GHnNDNB pORNAHAtD GNd !O\t mNDPBNMNp GNGOG!4Nu_RNt;B6GPRNDNCNBNG AVYNG DNGNEjBoGNz IN}NRNGNANRNMOXNDNE G3BNENmNR_GNDNA\n",
      "RLBNKNRFBN2NBNDLGNGNANGNGNGHRyDNGNDWR GNBN; 9NGNdNGgRNGNDNGHDNBN'NGtG } G RXENMVG\n"
     ]
    },
    {
     "name": "stderr",
     "output_type": "stream",
     "text": [
      "  3%|▎         | 10031/310107 [00:38<18:44, 266.75it/s]"
     ]
    },
    {
     "name": "stdout",
     "output_type": "stream",
     "text": [
      "Smooth loss at step 10000: 53.92121808921535\n",
      "(100, 1)\n",
      "Update step 10000: Synthesized text:\n",
      " ,\" oulling,\"\n",
      "\"renmouggs -\". s warctere to paht nevis-go-h .  hayr mho thon and alley ChEy ha peatmis in at to cithtor in \"Drading, Ur. Wa? mave plat Doa dimpe'n she ronnly abawly.  Tarrarechly the ran\n"
     ]
    },
    {
     "name": "stderr",
     "output_type": "stream",
     "text": [
      "  6%|▋         | 20035/310107 [01:19<17:24, 277.63it/s]"
     ]
    },
    {
     "name": "stdout",
     "output_type": "stream",
     "text": [
      "Smooth loss at step 20000: 50.73137049014566\n",
      "(100, 1)\n",
      "Update step 20000: Synthesized text:\n",
      "  that got tolderidy the \"I's iet exuing a diddy, warr)es helk to dngitge firthen't filln's wiicht he to the - se tow diggtentt of -\"\"\n",
      "Mr. -\" har to his hit?\" said heered in soe bren to thanled tht his\n"
     ]
    },
    {
     "name": "stderr",
     "output_type": "stream",
     "text": [
      " 10%|▉         | 30037/310107 [01:55<15:57, 292.35it/s]"
     ]
    },
    {
     "name": "stdout",
     "output_type": "stream",
     "text": [
      "Smooth loss at step 30000: 49.40431832563708\n",
      "(100, 1)\n",
      "Update step 30000: Synthesized text:\n",
      " r afl upransper. Harry, harren warrs.\n",
      "\"Ye'ghune'rrcaunclar; nto wands wheee walesly harrseger.  he she drortoreh \"himed thackerore rowe finclr..  Hermed flew largw.  \"He ferede griin feeft. . . . in l\n"
     ]
    },
    {
     "name": "stderr",
     "output_type": "stream",
     "text": [
      " 13%|█▎        | 40052/310107 [02:28<15:47, 285.16it/s]"
     ]
    },
    {
     "name": "stdout",
     "output_type": "stream",
     "text": [
      "Smooth loss at step 40000: 48.06094792504058\n",
      "(100, 1)\n",
      "Update step 40000: Synthesized text:\n",
      " e poldemort hadde ungail.  Vo giten Vimpy ... breail noteafred watce. Tecroud oner the could and thending and the steyted the neardesting orederund umoat ato thide made thond cerionn you what les he r\n"
     ]
    },
    {
     "name": "stderr",
     "output_type": "stream",
     "text": [
      " 16%|█▌        | 50035/310107 [03:03<16:10, 268.03it/s]"
     ]
    },
    {
     "name": "stdout",
     "output_type": "stream",
     "text": [
      "Smooth loss at step 50000: 49.08900549700873\n",
      "(100, 1)\n",
      "Update step 50000: Synthesized text:\n",
      " Hermioned out up themed Antilee Opad a death foreisning thats and, tad not uby woukngoonnds Trithey favedy the reckldeen tuatlt the hastlick soreeverss, gould said Horrudle eakos as they por gow Croup\n"
     ]
    },
    {
     "name": "stderr",
     "output_type": "stream",
     "text": [
      " 19%|█▉        | 60049/310107 [03:39<13:54, 299.80it/s]"
     ]
    },
    {
     "name": "stdout",
     "output_type": "stream",
     "text": [
      "Smooth loss at step 60000: 47.64147259206661\n",
      "(100, 1)\n",
      "Update step 60000: Synthesized text:\n",
      " g the tart Gobet Petpred. .  \"Ah Harry yen leamient the Dolfooss. Theme from Harry and Glyeming dee, He gre jost theyesser, stom owe hat Resle't'smen sharram stole.\n",
      "\"\n",
      "Siffindch. Ameyt, Ron their co's,\n"
     ]
    },
    {
     "name": "stderr",
     "output_type": "stream",
     "text": [
      " 23%|██▎       | 70038/310107 [04:14<13:01, 307.12it/s]"
     ]
    },
    {
     "name": "stdout",
     "output_type": "stream",
     "text": [
      "Smooth loss at step 70000: 47.401212130764726\n",
      "(100, 1)\n",
      "Update step 70000: Synthesized text:\n",
      " e owe dingtre?  Of you clold Profe as and would quitee!\" I'm.,\" said Row exion was indoried they waid Horm cal glide had now of hoight?\n",
      "\"OPE Rog wal hould wantitt, and off harh.. as in a doings, I whi\n"
     ]
    },
    {
     "name": "stderr",
     "output_type": "stream",
     "text": [
      " 26%|██▌       | 80033/310107 [04:47<12:41, 302.21it/s]"
     ]
    },
    {
     "name": "stdout",
     "output_type": "stream",
     "text": [
      "Smooth loss at step 80000: 45.70499525200404\n",
      "(100, 1)\n",
      "Update step 80000: Synthesized text:\n",
      " leafor be, Tenisen and of icned.\"\n",
      "He been was wamand twall to digutione wanched, or?\"\n",
      "Karkarieg.\"  said Mrsansor of the gable him, been tringeen, Con tho as schis tow ap had and had taisnoned not of l\n"
     ]
    },
    {
     "name": "stderr",
     "output_type": "stream",
     "text": [
      " 29%|██▉       | 90035/310107 [05:20<12:18, 298.12it/s]"
     ]
    },
    {
     "name": "stdout",
     "output_type": "stream",
     "text": [
      "Smooth loss at step 90000: 46.30931180838627\n",
      "(100, 1)\n",
      "Update step 90000: Synthesized text:\n",
      " ast insaing thoughed at up the Sine we kith that at Harry been uh him.  nestething Dursl's had will poings, thad looking wousneb bave,, hed he sendore. \"Wellle full on deadleesor lefle. \"At he whering\n"
     ]
    },
    {
     "name": "stderr",
     "output_type": "stream",
     "text": [
      " 32%|███▏      | 100049/310107 [05:53<11:43, 298.64it/s]"
     ]
    },
    {
     "name": "stdout",
     "output_type": "stream",
     "text": [
      "Smooth loss at step 100000: 47.17415242111384\n",
      "(100, 1)\n",
      "Update step 100000: Synthesized text:\n",
      " the Harry the with stupl of at faioned ridy roned time on saids comp at to and meytw bance ecyou, chaged steace le and undiced ficthed Mr. Beang it exe it.  \"vildoy beleale, Cro know owe.\"\n",
      "\"Cemctsing \n",
      "(100, 1)\n",
      "Synthesized text:\n",
      " youring tot Fred ho's whe wis was in eyet enet eecatt Dumbens tolled to the stinks one at that mofrew in wallemont, stand it caseetore, og awoug, who stided and it letrer we be and of thion.  Weaulkin\n"
     ]
    },
    {
     "name": "stderr",
     "output_type": "stream",
     "text": [
      " 35%|███▌      | 110039/310107 [06:30<12:06, 275.48it/s]"
     ]
    },
    {
     "name": "stdout",
     "output_type": "stream",
     "text": [
      "Smooth loss at step 110000: 45.38886421934309\n",
      "(100, 1)\n",
      "Update step 110000: Synthesized text:\n",
      " oothight's the cizedorcts win tor, wile tile his hat of the bokes.  An' doldel the who vor off scop peving.  He anvery.\n",
      "\"Lefent.  And timp lasply, !\"\n",
      "\"Weat Hermiove MAGidool.  Harr offed.  He would th\n"
     ]
    },
    {
     "name": "stderr",
     "output_type": "stream",
     "text": [
      " 39%|███▊      | 120031/310107 [07:04<11:03, 286.38it/s]"
     ]
    },
    {
     "name": "stdout",
     "output_type": "stream",
     "text": [
      "Smooth loss at step 120000: 45.83563479400338\n",
      "(100, 1)\n",
      "Update step 120000: Synthesized text:\n",
      " was rid's in might iftary,\" said Kefchower tlosing felly was oact fill ragin; like and tulk Starge. Then conderath. Moldore vurce, have them acered daut upla, - whens hers frown, Ron who witcone, that\n"
     ]
    },
    {
     "name": "stderr",
     "output_type": "stream",
     "text": [
      " 42%|████▏     | 130051/310107 [07:37<09:42, 309.36it/s]"
     ]
    },
    {
     "name": "stdout",
     "output_type": "stream",
     "text": [
      "Smooth loss at step 130000: 44.43434533159961\n",
      "(100, 1)\n",
      "Update step 130000: Synthesized text:\n",
      " s speet weet sawas.  When stick had ute had ov.\"\n",
      "Snow any into finsorthered my it sherter at he was feem eds, down it it.  by a Clooker op, Werrlf knew pose fees demernd ma up the cas beem haw, patt d\n"
     ]
    },
    {
     "name": "stderr",
     "output_type": "stream",
     "text": [
      " 45%|████▌     | 140046/310107 [08:12<09:27, 299.84it/s]"
     ]
    },
    {
     "name": "stdout",
     "output_type": "stream",
     "text": [
      "Smooth loss at step 140000: 47.59829691399473\n",
      "(100, 1)\n",
      "Update step 140000: Synthesized text:\n",
      " d allong, the eyes thoughte his loagly somat a a nles and that the Buggared pithition his pistouted of it, his wanditn't to de yer bedreystents magabled cantt Mood and then imletered and and the bus g\n"
     ]
    },
    {
     "name": "stderr",
     "output_type": "stream",
     "text": [
      " 48%|████▊     | 150048/310107 [08:50<10:28, 254.87it/s]"
     ]
    },
    {
     "name": "stdout",
     "output_type": "stream",
     "text": [
      "Smooth loss at step 150000: 44.88591927045261\n",
      "(100, 1)\n",
      "Update step 150000: Synthesized text:\n",
      " e, to the being almeassliought, antwert.\n",
      "\tMr.  Bildoned cotthat?\"\n",
      "\"I said in then to toon are you's ween nopens of lowed.\"\n",
      "Of chers with chorke looken beore got adroddeds spell tee Vroze and it.\n",
      "Ot?\" \n"
     ]
    },
    {
     "name": "stderr",
     "output_type": "stream",
     "text": [
      " 52%|█████▏    | 160034/310107 [09:24<08:21, 299.49it/s]"
     ]
    },
    {
     "name": "stdout",
     "output_type": "stream",
     "text": [
      "Smooth loss at step 160000: 45.402442798351224\n",
      "(100, 1)\n",
      "Update step 160000: Synthesized text:\n",
      "  mownatk so gof rast and is a weat Hagry froning is shese soundingway by the leidlixpotking have, quatt out -\"\n",
      "\"Fnery?\"  Harry.\n",
      "\"So having of the craand of the rosing. . . Batte, loy!\"  Harry, boty ka\n"
     ]
    },
    {
     "name": "stderr",
     "output_type": "stream",
     "text": [
      " 55%|█████▍    | 170051/310107 [10:02<07:57, 293.58it/s]"
     ]
    },
    {
     "name": "stdout",
     "output_type": "stream",
     "text": [
      "Smooth loss at step 170000: 44.508832039813704\n",
      "(100, 1)\n",
      "Update step 170000: Synthesized text:\n",
      " ust fromble cut Dust fire my gore about ainylark in the if moge chund up the carmed styeis just.  But theves of see from she harmion, and a had shaf hed shousest arrapplert whre of kherrlet rone unen!\n"
     ]
    },
    {
     "name": "stderr",
     "output_type": "stream",
     "text": [
      " 58%|█████▊    | 180028/310107 [10:35<07:22, 294.08it/s]"
     ]
    },
    {
     "name": "stdout",
     "output_type": "stream",
     "text": [
      "Smooth loss at step 180000: 45.144748713279384\n",
      "(100, 1)\n",
      "Update step 180000: Synthesized text:\n",
      " ry throght were Vullors was to den't befory five Dedsmuring conteringaged of scome socly.  Vnaky,  tread alxtow, botwing?\"\n",
      " Flive hayining.  \"Ok Harry, Proit ow, suid Dudfil I about to then, currsany \n"
     ]
    },
    {
     "name": "stderr",
     "output_type": "stream",
     "text": [
      " 61%|██████▏   | 190039/310107 [11:15<07:32, 265.41it/s]"
     ]
    },
    {
     "name": "stdout",
     "output_type": "stream",
     "text": [
      "Smooth loss at step 190000: 45.5724091676325\n",
      "(100, 1)\n",
      "Update step 190000: Synthesized text:\n",
      " in thair brobace Curey Oneby for bruth to ice, out all at him looking sornain, pistall solvigh sour barily, tows you dgan thind that ell got, at the liaichain intell bedins, Carrioully ind very his ve\n"
     ]
    },
    {
     "name": "stderr",
     "output_type": "stream",
     "text": [
      " 65%|██████▍   | 200032/310107 [11:53<07:17, 251.64it/s]"
     ]
    },
    {
     "name": "stdout",
     "output_type": "stream",
     "text": [
      "Smooth loss at step 200000: 44.1669086507996\n",
      "(100, 1)\n",
      "Update step 200000: Synthesized text:\n",
      " hurriw up I slid, whatte yol.\n",
      "\"Whad. Jarl.\n",
      "\"ARly \"noon of attardy, starpay conigh Horking moment down then hea had I caswerting bounder; crow. ,\" sho teamightlad, just off a contunts wele still - neve\n",
      "(100, 1)\n",
      "Synthesized text:\n",
      " to been specks.  \"Wourse thaloon out end thaist wood plice had got bouss, skile, Ron!\"  druggn' bare!\"\n",
      "Dubby apaM!\" said thamld doner.\n",
      "\"Whothard, in Harry, sisputed.  \"E't heacbood I'm his andoud seam\n"
     ]
    },
    {
     "name": "stderr",
     "output_type": "stream",
     "text": [
      " 68%|██████▊   | 210058/310107 [12:32<05:28, 304.14it/s]"
     ]
    },
    {
     "name": "stdout",
     "output_type": "stream",
     "text": [
      "Smooth loss at step 210000: 44.24563793662754\n",
      "(100, 1)\n",
      "Update step 210000: Synthesized text:\n",
      " se't the his right wasw end now stall spidering he'd eneth around chaUt staring to gilly, and lagg whot'resh hadl seem not could. drearing sery bote putherorele.  Chericksing airy heatht we'le of the \n"
     ]
    },
    {
     "name": "stderr",
     "output_type": "stream",
     "text": [
      " 71%|███████   | 220044/310107 [13:04<04:57, 302.41it/s]"
     ]
    },
    {
     "name": "stdout",
     "output_type": "stream",
     "text": [
      "Smooth loss at step 220000: 43.13774926431527\n",
      "(100, 1)\n",
      "Update step 220000: Synthesized text:\n",
      " al !\"\n",
      "\"Yom you can coined full beist Herred, you exmust.  requids san to comple-lart.  I sortrase is he paive ter sups tly mone, byouse- ther ooned tear stepping and ext of wark I sumore to prieve, \"E\n"
     ]
    },
    {
     "name": "stderr",
     "output_type": "stream",
     "text": [
      " 74%|███████▍  | 230045/310107 [13:36<04:20, 307.19it/s]"
     ]
    },
    {
     "name": "stdout",
     "output_type": "stream",
     "text": [
      "Smooth loss at step 230000: 43.56144655096934\n",
      "(100, 1)\n",
      "Update step 230000: Synthesized text:\n",
      " ownsize. Whrotsing will plame offling tonvers it, the squieched of Mr. Weasley thas boxm could wish opGar, they sas onllkinks was him hell defled ackne,\" said, air looking all wits it of Crous! I'n co\n"
     ]
    },
    {
     "name": "stderr",
     "output_type": "stream",
     "text": [
      " 77%|███████▋  | 240027/310107 [14:12<04:35, 254.21it/s]"
     ]
    },
    {
     "name": "stdout",
     "output_type": "stream",
     "text": [
      "Smooth loss at step 240000: 44.229682838560386\n",
      "(100, 1)\n",
      "Update step 240000: Synthesized text:\n",
      " Harry.\"\n",
      "Then, was pand ofing posing and it of it druds.\n",
      "Ponceandund to He was nothanbuinn a blong.  He was and he skill then?\"\n",
      "\n",
      "\"The leeplep.  I tither.   Cedrice, upon theig lettery lain' pecky bly d\n"
     ]
    },
    {
     "name": "stderr",
     "output_type": "stream",
     "text": [
      " 81%|████████  | 250039/310107 [14:48<03:36, 277.49it/s]"
     ]
    },
    {
     "name": "stdout",
     "output_type": "stream",
     "text": [
      "Smooth loss at step 250000: 44.80718776516417\n",
      "(100, 1)\n",
      "Update step 250000: Synthesized text:\n",
      " nce; a of it!\"  what it, come chen hornten where on the beement fratur,\" said Moody\"\n",
      "\"What heuppacely where don't hea, scassing Dapf sortaiss; very solly!\" \"Fox giggar,\" said Fade and his fees of of t\n"
     ]
    },
    {
     "name": "stderr",
     "output_type": "stream",
     "text": [
      " 84%|████████▍ | 260038/310107 [15:22<03:09, 264.28it/s]"
     ]
    },
    {
     "name": "stdout",
     "output_type": "stream",
     "text": [
      "Smooth loss at step 260000: 42.999835271188786\n",
      "(100, 1)\n",
      "Update step 260000: Synthesized text:\n",
      " ce to skee is their at He his were shouther!\n",
      "Harry?\" samant the naberor.  He worked your must, inta a air his anvey enouchon himsly, broubly undy hance wher, think in thin' and tast affelk hurrom.\n",
      "\"Yo\n"
     ]
    },
    {
     "name": "stderr",
     "output_type": "stream",
     "text": [
      " 87%|████████▋ | 270038/310107 [15:56<02:40, 249.80it/s]"
     ]
    },
    {
     "name": "stdout",
     "output_type": "stream",
     "text": [
      "Smooth loss at step 270000: 44.1380351806904\n",
      "(100, 1)\n",
      "Update step 270000: Synthesized text:\n",
      " hrething over of up.  \"I deemore.  The at wead bot anpurs had tups lich staved ourcornully.\"\n",
      " Harry's heltest ppeisting poine course intear out hard appande and seile.  He wasn't can use now, scapped \n"
     ]
    },
    {
     "name": "stderr",
     "output_type": "stream",
     "text": [
      " 90%|█████████ | 280030/310107 [16:30<01:39, 302.15it/s]"
     ]
    },
    {
     "name": "stdout",
     "output_type": "stream",
     "text": [
      "Smooth loss at step 280000: 44.890404737958185\n",
      "(100, 1)\n",
      "Update step 280000: Synthesized text:\n",
      " Dast room asteching clued You't the and the they firelt?\" said Harry and caulded, somaid mered rigof!\" Moody.\n",
      "\"I was that all wamw Garay the to preving had ir, Hermiupenting whits and Mrsas pailied lo\n"
     ]
    },
    {
     "name": "stderr",
     "output_type": "stream",
     "text": [
      " 94%|█████████▎| 290034/310107 [17:04<01:05, 308.14it/s]"
     ]
    },
    {
     "name": "stdout",
     "output_type": "stream",
     "text": [
      "Smooth loss at step 290000: 43.33124724893971\n",
      "(100, 1)\n",
      "Update step 290000: Synthesized text:\n",
      " the with Peaty a starrad lainay, her potworsted go his lidn't hol twertilaslagly,\" has wordiny one to that them lausius; Hermione soidend.\n",
      "\"Youd down it at Harry.  \"I her with Harry?\"  Rons ap withoon\n"
     ]
    },
    {
     "name": "stderr",
     "output_type": "stream",
     "text": [
      " 97%|█████████▋| 300042/310107 [17:36<00:34, 293.33it/s]"
     ]
    },
    {
     "name": "stdout",
     "output_type": "stream",
     "text": [
      "Smooth loss at step 300000: 42.20151525164696\n",
      "(100, 1)\n",
      "Update step 300000: Synthesized text:\n",
      " ot got anyonching,\" Hagry jump!\" Harry por so clitsid, harrsive to been whent ... him.\"\n",
      "\"U Krum As. . .\n",
      "\n",
      "Cg he about blars mor and can turned craid, aw you darn.  \"Now me fan he day.\n",
      "\"Whand wast out o\n",
      "(100, 1)\n",
      "Synthesized text:\n",
      " e he dore brice ofce's the erore trny,\" said broughothing in the ground wat us. \"Er he'd have you, an rake. . . the trew stabbing you?\" 'ast oning and pawasull him.\n",
      "\"Singo,\" he did you're tharmy why w\n"
     ]
    },
    {
     "name": "stderr",
     "output_type": "stream",
     "text": [
      "100%|█████████▉| 310052/310107 [18:13<00:00, 281.22it/s]"
     ]
    },
    {
     "name": "stdout",
     "output_type": "stream",
     "text": [
      "Smooth loss at step 310000: 42.1702634181173\n",
      "(100, 1)\n",
      "Update step 310000: Synthesized text:\n",
      " od on their.  time this ligol - Diggonudn's Trough knyh \"Kchilful fhen Worndem deay lake, Moggath Crouched he could Grod the toot tang to ant at the with into the dosbed tonen at I'm ncoping looked an\n"
     ]
    },
    {
     "name": "stderr",
     "output_type": "stream",
     "text": [
      "100%|██████████| 310107/310107 [18:14<00:00, 283.42it/s]\n"
     ]
    },
    {
     "name": "stdout",
     "output_type": "stream",
     "text": [
      "_________________________\n",
      "(100, 1)\n",
      "Synthesized text:\n",
      " g follesting sulled at on Voldeam of har he was Deebblet cally and Freuchion must gonem.\n",
      "\"I suideet Domention, Volded roem and you boning to then that so re anyion of of of Art a good louse see dask nisting,\" said Harry face, thind a hyaid Dumbledore Fred he bumo-.\n",
      "You had he nerctilw at then we said was had joleen toke at Dured Padlerming lodests subbleared wey it of gring sing, hare faing to forned it dished, kiving plightoned tureyn's ained him, which,\" said Dumbleyor so back.  \"Pevicul moingely's tele.\n",
      "\"Domed roo to who golensed ae it wart Dean't opeevey upinged Ste of cabone was he saiting waw quiet to and nught to deened was yeared unon \"Er.\n",
      "\n",
      "Pottaek ip had with hims.\n",
      "\"Any icted the tass wich thremine four, Manam arm.\n",
      "Harry eace?\" \"Yeing He said grat, kippas torted be said.\"\n",
      "Hormtoul. .  Ah the table will heew.  \"He foldawing puand Domest head boine?\" said He Trough no Moged in the was leet, has, Awasked in chair sinnore shoutedine polden the wath and down a dedore, It outsan to \n"
     ]
    },
    {
     "data": {
      "image/png": "[encoded data removed]",
      "text/plain": [
       "<Figure size 640x480 with 1 Axes>"
      ]
     },
     "metadata": {},
     "output_type": "display_data"
    }
   ],
   "source": [
    "rnn = train_rnn(rnn, book_data, char_to_ind, ind_to_char, n_epochs=7)\n"
   ]
  }
 ],
 "metadata": {
  "kernelspec": {
   "display_name": "Python 3",
   "language": "python",
   "name": "python3"
  },
  "language_info": {
   "codemirror_mode": {
    "name": "ipython",
    "version": 3
   },
   "file_extension": ".py",
   "mimetype": "text/x-python",
   "name": "python",
   "nbconvert_exporter": "python",
   "pygments_lexer": "ipython3",
   "version": "3.9.0"
  },
  "orig_nbformat": 4
 },
 "nbformat": 4,
 "nbformat_minor": 2
}
